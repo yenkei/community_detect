{
 "cells": [
  {
   "cell_type": "code",
   "execution_count": 1,
   "metadata": {},
   "outputs": [],
   "source": [
    "import igraph as ig\n",
    "import leidenalg\n",
    "import networkx as nx  \n",
    "from datetime import datetime, timedelta\n",
    "from tqdm.notebook import tqdm\n",
    "import os"
   ]
  },
  {
   "cell_type": "markdown",
   "metadata": {},
   "source": [
    "### 基于关系数据，进行紧密群组发现"
   ]
  },
  {
   "cell_type": "code",
   "execution_count": 6,
   "metadata": {},
   "outputs": [],
   "source": [
    "def com_detect():\n",
    "    GN = nx.Graph()\n",
    "\n",
    "    with open(\"data/data.csv\",'r',encoding='utf-8') as f:\n",
    "        for line in f.readlines():\n",
    "            line = line.strip()\n",
    "            s = line.split(',')\n",
    "            src = s[0]\n",
    "            dest = s[1]\n",
    "            w = 1\n",
    "            GN.add_edges_from([(src,dest, {'weight': w})])\n",
    "\n",
    "    g=ig.Graph.from_networkx(GN,vertex_attr_hashable='id_card')\n",
    "\n",
    "    # 运行Leiden算法\n",
    "    partition_type = leidenalg.ModularityVertexPartition  # 或者使用其他类型如CPMVertexPartition\n",
    "    partition = leidenalg.find_partition(\n",
    "        g,\n",
    "        partition_type,  # 社区划分类型\n",
    "        weights=\"weight\",  # 边的权重列表\n",
    "        max_comm_size=30,\n",
    "        seed=0  # 可选的随机种子\n",
    "    )\n",
    "\n",
    "    modularity = partition.modularity\n",
    "    return modularity\n"
   ]
  },
  {
   "cell_type": "markdown",
   "metadata": {},
   "source": [
    "### 运行计算，并查看模块度指标"
   ]
  },
  {
   "cell_type": "code",
   "execution_count": 7,
   "metadata": {},
   "outputs": [
    {
     "name": "stdout",
     "output_type": "stream",
     "text": [
      "modularity:\t0.2156917164121029\n"
     ]
    }
   ],
   "source": [
    "modularity = com_detect()\n",
    "print(f\"modularity:\\t{modularity}\")"
   ]
  },
  {
   "cell_type": "code",
   "execution_count": null,
   "metadata": {},
   "outputs": [],
   "source": []
  },
  {
   "cell_type": "code",
   "execution_count": null,
   "metadata": {},
   "outputs": [],
   "source": []
  }
 ],
 "metadata": {
  "kernelspec": {
   "display_name": "base",
   "language": "python",
   "name": "python3"
  },
  "language_info": {
   "codemirror_mode": {
    "name": "ipython",
    "version": 3
   },
   "file_extension": ".py",
   "mimetype": "text/x-python",
   "name": "python",
   "nbconvert_exporter": "python",
   "pygments_lexer": "ipython3",
   "version": "3.12.4"
  }
 },
 "nbformat": 4,
 "nbformat_minor": 2
}
