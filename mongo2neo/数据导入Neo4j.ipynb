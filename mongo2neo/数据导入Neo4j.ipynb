{
 "cells": [
  {
   "cell_type": "code",
   "execution_count": 2,
   "metadata": {},
   "outputs": [],
   "source": [
    "from py2neo import Graph, Subgraph\n",
    "from py2neo import Node, Relationship, Path\n",
    "from py2neo import NodeMatcher\n",
    "\n",
    "# 连接数据库\n",
    "graph = Graph('bolt://localhost:7687', auth=('neo4j', '123456'))\n",
    "nodes = NodeMatcher(graph)"
   ]
  },
  {
   "cell_type": "code",
   "execution_count": 7,
   "metadata": {},
   "outputs": [],
   "source": [
    "# 删除所有已有节点\n",
    "# graph.delete_all()"
   ]
  },
  {
   "cell_type": "code",
   "execution_count": 2,
   "metadata": {},
   "outputs": [],
   "source": [
    "import mysql.connector\n",
    "\n",
    "# 连接数据库\n",
    "connection = mysql.connector.connect(\n",
    "    host='localhost',  # 数据库主机地址\n",
    "    user='root',  # 数据库用户名\n",
    "    password='123456',  # 数据库密码\n",
    "    database='relationship'  # 要连接的数据库名称\n",
    ")\n",
    "cursor = connection.cursor()"
   ]
  },
  {
   "cell_type": "markdown",
   "metadata": {},
   "source": [
    "## 导入节点"
   ]
  },
  {
   "cell_type": "code",
   "execution_count": 8,
   "metadata": {},
   "outputs": [],
   "source": [
    "sql_select_query = \"SELECT id, huji_no, address, idcard, name, gender FROM huji\"\n",
    "cursor.execute(sql_select_query)\n",
    "person_datas = cursor.fetchall()\n",
    "\n",
    "for p in person_datas:\n",
    "    # 定义node\n",
    "    node = Node('Person',id=p[0], huji_no=p[1], address=p[2], idcard=p[3], name =p[4], gender =p[5])\n",
    "    # 存入图数据库\n",
    "    graph.create(node)"
   ]
  },
  {
   "cell_type": "markdown",
   "metadata": {},
   "source": [
    "## 更新节点属性"
   ]
  },
  {
   "cell_type": "code",
   "execution_count": 18,
   "metadata": {},
   "outputs": [],
   "source": [
    "# 清除原有 community_id 属性\n",
    "# graph.run(\"MATCH (n:Person) REMOVE n.community_id\")"
   ]
  },
  {
   "cell_type": "code",
   "execution_count": 3,
   "metadata": {},
   "outputs": [
    {
     "name": "stdout",
     "output_type": "stream",
     "text": [
      "finish add 29000 properties\n"
     ]
    }
   ],
   "source": [
    "sql_select_query = \"SELECT idcard, community_id FROM community_res where alg_info='leideng_max_comm_15_240702_1'\"\n",
    "cursor.execute(sql_select_query)\n",
    "community_datas = cursor.fetchall()\n",
    "\n",
    "for i, (idcard, community_id) in enumerate(community_datas):\n",
    "    if i%500==0:\n",
    "        print(f\"finish add {i} properties\")\n",
    "    tmp_node = nodes.match(\"Person\", idcard=idcard).first()\n",
    "    tmp_node['community_id'] = community_id\n",
    "    graph.push(tmp_node)\n",
    "\n",
    "# print(\"finish add 29000 properties\")"
   ]
  },
  {
   "cell_type": "markdown",
   "metadata": {},
   "source": [
    "## 批量插入关系"
   ]
  },
  {
   "cell_type": "markdown",
   "metadata": {},
   "source": [
    "64112 -- 106878"
   ]
  },
  {
   "cell_type": "code",
   "execution_count": null,
   "metadata": {},
   "outputs": [],
   "source": [
    "# MATCH ()-[r]-() DELETE r;"
   ]
  },
  {
   "cell_type": "code",
   "execution_count": 4,
   "metadata": {},
   "outputs": [
    {
     "name": "stdout",
     "output_type": "stream",
     "text": [
      "finish add 170000 relations\n"
     ]
    }
   ],
   "source": [
    "sql_select_query = \"SELECT src_id, dest_id, avg_time, show_type FROM relationship.relation_statistic_step2\"\n",
    "cursor.execute(sql_select_query)\n",
    "relation_datas = cursor.fetchall()\n",
    "\n",
    "transaction = graph.begin()\n",
    "for i, (src_id, dest_id, rweight,show_type) in enumerate(relation_datas):\n",
    "    if i%1000==0:\n",
    "        print(f\"finish add {i} relations\")\n",
    "        graph.commit(transaction)\n",
    "        transaction = graph.begin()\n",
    "    node_src = nodes.match(\"Person\", idcard=src_id).first()\n",
    "    node_dest = nodes.match(\"Person\", idcard=dest_id).first()\n",
    "    rel = Relationship(node_src,show_type,node_dest, weight = rweight)\n",
    "    transaction.create(rel)\n",
    "graph.commit(transaction)\n",
    "\n",
    "\n",
    "# print(\"finish add 170000 relations\")"
   ]
  },
  {
   "cell_type": "markdown",
   "metadata": {},
   "source": [
    "## 数据查询"
   ]
  },
  {
   "cell_type": "code",
   "execution_count": 1,
   "metadata": {},
   "outputs": [],
   "source": [
    "# match(n)-[r]-(m) return n,r,m limit 30\n",
    "# match(n)-[r]-(m) where n.community_id in ['63','64'] return n\n",
    "# match(n)-[r*1..2]-(m) where n.idcard='110123193207075050' return n,r,m  # 两层关系\n",
    "# match()-[r]-() return count(r)"
   ]
  },
  {
   "cell_type": "code",
   "execution_count": null,
   "metadata": {},
   "outputs": [],
   "source": [
    "# \"\""
   ]
  }
 ],
 "metadata": {
  "kernelspec": {
   "display_name": "base311",
   "language": "python",
   "name": "python3"
  },
  "language_info": {
   "codemirror_mode": {
    "name": "ipython",
    "version": 3
   },
   "file_extension": ".py",
   "mimetype": "text/x-python",
   "name": "python",
   "nbconvert_exporter": "python",
   "pygments_lexer": "ipython3",
   "version": "3.11.9"
  }
 },
 "nbformat": 4,
 "nbformat_minor": 2
}
